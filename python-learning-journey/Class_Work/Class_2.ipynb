{
  "cells": [
    {
      "cell_type": "markdown",
      "metadata": {
        "id": "TMz6HJ4amg87"
      },
      "source": [
        "## **Tuples** / **List**"
      ]
    },
    {
      "cell_type": "code",
      "execution_count": null,
      "metadata": {
        "id": "C8Um3SJ5mltM"
      },
      "outputs": [],
      "source": [
        "# build in feature ha jo sirf read only ha jinhain upade nahi kr skta bad ma\n",
        "# e.g id card"
      ]
    },
    {
      "cell_type": "code",
      "execution_count": null,
      "metadata": {
        "colab": {
          "base_uri": "https://localhost:8080/"
        },
        "id": "jeYglvJmnC27",
        "outputId": "2ac3b95f-16ec-4e27-8841-9336df901ccf"
      },
      "outputs": [
        {
          "name": "stdout",
          "output_type": "stream",
          "text": [
            "('Assignments', 'Attendence')\n"
          ]
        }
      ],
      "source": [
        "giaic_rules=('Assignments','Attendence')\n",
        "print(giaic_rules)"
      ]
    },
    {
      "cell_type": "code",
      "execution_count": null,
      "metadata": {
        "id": "YwCf7bnOoIRU"
      },
      "outputs": [],
      "source": [
        "print(type(giaic_rules))"
      ]
    },
    {
      "cell_type": "markdown",
      "metadata": {
        "id": "1el4fL2aosY_"
      },
      "source": [
        "**Make a tuple and store a id card information (3 value)**"
      ]
    },
    {
      "cell_type": "code",
      "execution_count": null,
      "metadata": {
        "colab": {
          "base_uri": "https://localhost:8080/"
        },
        "id": "03U_uveIo4PA",
        "outputId": "6e938b6f-4f0b-4d23-ffbf-17d3f5d2c7ad"
      },
      "outputs": [
        {
          "name": "stdout",
          "output_type": "stream",
          "text": [
            "('Laiba', 428816, 'karachi')\n"
          ]
        }
      ],
      "source": [
        "id_card=('Laiba',428816,'karachi',428816)\n",
        "print(id_card)"
      ]
    },
    {
      "cell_type": "code",
      "execution_count": null,
      "metadata": {
        "colab": {
          "base_uri": "https://localhost:8080/"
        },
        "id": "FggvuZUIoKOm",
        "outputId": "32963b7d-a277-4597-89b7-47db271b870c"
      },
      "outputs": [
        {
          "name": "stdout",
          "output_type": "stream",
          "text": [
            "Laiba\n"
          ]
        }
      ],
      "source": [
        "print(id_card[0])"
      ]
    },
    {
      "cell_type": "code",
      "execution_count": null,
      "metadata": {
        "colab": {
          "base_uri": "https://localhost:8080/"
        },
        "id": "wC5fjTb1qM3F",
        "outputId": "a7fef529-ada5-4276-e8d0-454f4dbd3675"
      },
      "outputs": [
        {
          "name": "stdout",
          "output_type": "stream",
          "text": [
            "My name is Laiba\n"
          ]
        }
      ],
      "source": [
        "# printing a sentence like my name is and taken name from tuples\n",
        "print(f'My name is {id_card[0]}')"
      ]
    },
    {
      "cell_type": "markdown",
      "metadata": {
        "id": "CKsSmIBYraDB"
      },
      "source": [
        "**tuples also have build in methods**"
      ]
    },
    {
      "cell_type": "code",
      "execution_count": null,
      "metadata": {
        "colab": {
          "base_uri": "https://localhost:8080/"
        },
        "id": "MvRkppK1rhIn",
        "outputId": "9118dc9b-ef1b-47f8-bb8e-f8778ee29f45"
      },
      "outputs": [
        {
          "data": {
            "text/plain": [
              "0"
            ]
          },
          "execution_count": 9,
          "metadata": {},
          "output_type": "execute_result"
        }
      ],
      "source": [
        "# .count jitni bar list ma value ho gi wo show kara ga\n",
        "id_card.count('laiba')"
      ]
    },
    {
      "cell_type": "code",
      "execution_count": null,
      "metadata": {
        "colab": {
          "base_uri": "https://localhost:8080/"
        },
        "id": "dbRqLSx8rxMy",
        "outputId": "9d979022-e595-444b-882b-2ab998b855e6"
      },
      "outputs": [
        {
          "data": {
            "text/plain": [
              "1"
            ]
          },
          "execution_count": 12,
          "metadata": {},
          "output_type": "execute_result"
        }
      ],
      "source": [
        "id_card.index(428816)"
      ]
    },
    {
      "cell_type": "code",
      "execution_count": null,
      "metadata": {
        "id": "5eldboJssKUM"
      },
      "outputs": [],
      "source": []
    },
    {
      "cell_type": "markdown",
      "metadata": {
        "id": "wLs1eQVDt-YX"
      },
      "source": [
        "**Dictionary**\n",
        "**<!-- object ko dictionary kehta hain -->**"
      ]
    },
    {
      "cell_type": "code",
      "execution_count": null,
      "metadata": {
        "id": "GDCGVCqUuGcv"
      },
      "outputs": [],
      "source": [
        "# object ko dictionary kehta hain"
      ]
    },
    {
      "cell_type": "code",
      "execution_count": null,
      "metadata": {
        "id": "ZYI8P4G5uO1V"
      },
      "outputs": [],
      "source": [
        "# A dictionary in Python is a collection of key-value pairs, where each key is unique and maps to a specific value.\n",
        "# structured data use hota ha"
      ]
    },
    {
      "cell_type": "code",
      "execution_count": null,
      "metadata": {
        "colab": {
          "base_uri": "https://localhost:8080/"
        },
        "id": "YZYok2Iduyji",
        "outputId": "2a8d60a5-24f3-4aa0-8b69-ecead224cab0"
      },
      "outputs": [
        {
          "output_type": "stream",
          "name": "stdout",
          "text": [
            "{'person_name': 'Laiba', 'items': ['Biryani', 'Cold Drinks', 'Raita'], 'status': 'pending'}\n"
          ]
        }
      ],
      "source": [
        "order_food = {\n",
        "    \"person_name\":\"Laiba\",\n",
        "     \"items\": [\"Biryani\",\"Cold Drinks\",\"Raita\"], #list ma store ha yh\n",
        "    \"status\":\"pending\"\n",
        "}\n",
        "print(order_food)"
      ]
    },
    {
      "cell_type": "code",
      "execution_count": null,
      "metadata": {
        "colab": {
          "base_uri": "https://localhost:8080/"
        },
        "id": "myoLf7vdv1ds",
        "outputId": "14d8ed8b-4ce6-4628-b07c-146cf1036cd7"
      },
      "outputs": [
        {
          "name": "stdout",
          "output_type": "stream",
          "text": [
            "['Biryani', 'Cold Drinks', 'Raita']\n"
          ]
        }
      ],
      "source": [
        "print(order_food[\"items\"])"
      ]
    },
    {
      "cell_type": "code",
      "execution_count": null,
      "metadata": {
        "colab": {
          "base_uri": "https://localhost:8080/"
        },
        "id": "2yQqIrahv64a",
        "outputId": "0d55a2ed-4007-42a8-a670-801402f85aff"
      },
      "outputs": [
        {
          "name": "stdout",
          "output_type": "stream",
          "text": [
            "Raita\n"
          ]
        }
      ],
      "source": [
        "print(order_food[\"items\"][2])"
      ]
    },
    {
      "cell_type": "code",
      "execution_count": null,
      "metadata": {
        "colab": {
          "base_uri": "https://localhost:8080/"
        },
        "id": "RMDd4ceZx9hf",
        "outputId": "35d3c5ae-1763-4f5b-a4c4-d88b2f4bb1f3"
      },
      "outputs": [
        {
          "output_type": "stream",
          "name": "stdout",
          "text": [
            "{'person_name': 'Laiba', 'items': ['Biryani', 'Cold Drinks', 'Raita'], 'status': 'delivered'}\n"
          ]
        }
      ],
      "source": [
        "order_food[\"status\"]=\"delivered\"\n",
        "print(order_food)"
      ]
    },
    {
      "cell_type": "markdown",
      "metadata": {
        "id": "F5TBt4yczV3k"
      },
      "source": [
        "**Make an object/dictionary **\n",
        "**1.Name a key (your name)**\n",
        "**2.The type of first key should a object**\n",
        "**3.There should be 2 keys , Subname and score**\n",
        "**4.Print Score**"
      ]
    },
    {
      "cell_type": "code",
      "execution_count": null,
      "metadata": {
        "id": "SOGj9zpX0CTl",
        "colab": {
          "base_uri": "https://localhost:8080/"
        },
        "outputId": "5bd0ec25-62ab-4b76-b7b8-cb9e03a40dbc"
      },
      "outputs": [
        {
          "output_type": "stream",
          "name": "stdout",
          "text": [
            "{'laiba': {'subname': 'english', 'score': 70}}\n"
          ]
        }
      ],
      "source": [
        "# dictionary/object ka ander dictionary jisa \"nested dictionary/nested/object\" kehta hain\n",
        "dictionary = {\n",
        "   'laiba':{\n",
        "       \"subname\":\"english\",\n",
        "       \"score\":70\n",
        "   }\n",
        "}\n",
        "print(dictionary)"
      ]
    },
    {
      "cell_type": "code",
      "execution_count": null,
      "metadata": {
        "id": "v62mdIWd1qNY",
        "colab": {
          "base_uri": "https://localhost:8080/"
        },
        "outputId": "2e651e4e-4410-4533-9e13-d5f4f1ed010a"
      },
      "outputs": [
        {
          "output_type": "stream",
          "name": "stdout",
          "text": [
            "{'subname': 'english', 'score': 70}\n"
          ]
        }
      ],
      "source": [
        "print(dictionary[\"laiba\"])"
      ]
    },
    {
      "cell_type": "code",
      "execution_count": null,
      "metadata": {
        "id": "PkTh7a5-2Eio",
        "colab": {
          "base_uri": "https://localhost:8080/"
        },
        "outputId": "9eac112b-4f6d-4c8d-b4ce-bffbe5655f28"
      },
      "outputs": [
        {
          "output_type": "stream",
          "name": "stdout",
          "text": [
            "70\n"
          ]
        }
      ],
      "source": [
        "print(dictionary[\"laiba\"]['score'])"
      ]
    }
  ],
  "metadata": {
    "colab": {
      "provenance": []
    },
    "kernelspec": {
      "display_name": "Python 3",
      "name": "python3"
    },
    "language_info": {
      "name": "python"
    }
  },
  "nbformat": 4,
  "nbformat_minor": 0
}