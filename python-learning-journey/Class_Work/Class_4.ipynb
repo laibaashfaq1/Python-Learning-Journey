{
  "nbformat": 4,
  "nbformat_minor": 0,
  "metadata": {
    "colab": {
      "provenance": []
    },
    "kernelspec": {
      "name": "python3",
      "display_name": "Python 3"
    },
    "language_info": {
      "name": "python"
    }
  },
  "cells": [
    {
      "cell_type": "markdown",
      "source": [
        "# **Function declaration**"
      ],
      "metadata": {
        "id": "A0d7xIuLaLl3"
      }
    },
    {
      "cell_type": "code",
      "execution_count": null,
      "metadata": {
        "colab": {
          "base_uri": "https://localhost:8080/"
        },
        "id": "62SXUx6jSp_U",
        "outputId": "41124aba-080b-41e0-8937-c88584862c56"
      },
      "outputs": [
        {
          "output_type": "stream",
          "name": "stdout",
          "text": [
            "{'email': 'laibaashfaq@gmail', 'password': 'laiba'}\n"
          ]
        }
      ],
      "source": [
        "def login (email,password):\n",
        "  user_obj={\n",
        "      \"email\" : email,\n",
        "      \"password\" : password\n",
        "  }\n",
        "  print(user_obj)\n",
        "login(\"laibaashfaq@gmail\",\"laiba\")\n"
      ]
    },
    {
      "cell_type": "markdown",
      "source": [
        "# **Keyword Arrguments**"
      ],
      "metadata": {
        "id": "BGVw2pTedjU2"
      }
    },
    {
      "cell_type": "markdown",
      "source": [
        "Keyword arguments are passed by explicitly specifying the parameter names, so the order doesn't matter.\n",
        "\n",
        "🔹 Each argument is assigned using the parameter name."
      ],
      "metadata": {
        "id": "I46o1WGOgDx5"
      }
    },
    {
      "cell_type": "code",
      "source": [
        "# starig  * ho ga to wo keyword ha\n",
        "# sequence matter nahi krti\n",
        "def login(*, email, password, dob):\n",
        "    user = {\n",
        "        \"email\": email,\n",
        "        \"password\": password\n",
        "    }\n",
        "    print(user)\n",
        "\n",
        "login(email=\"laiba@gmail\", password=\"123\", dob=\"25/07/2004\")\n"
      ],
      "metadata": {
        "colab": {
          "base_uri": "https://localhost:8080/"
        },
        "id": "IacJjxH_a74_",
        "outputId": "52b2e86f-3272-4755-bbce-1d43f7c386c1"
      },
      "execution_count": null,
      "outputs": [
        {
          "output_type": "stream",
          "name": "stdout",
          "text": [
            "{'email': 'laiba@gmail', 'password': '123'}\n"
          ]
        }
      ]
    },
    {
      "cell_type": "markdown",
      "source": [
        "# **Positional Arrguments**"
      ],
      "metadata": {
        "id": "DoLkWVplej7E"
      }
    },
    {
      "cell_type": "markdown",
      "source": [
        "Positional arguments are passed to a function in the correct order, matching the function’s parameter list by position.\n",
        "\n",
        "🔹 The position of each argument matters."
      ],
      "metadata": {
        "id": "T-jhpym2gF1Y"
      }
    },
    {
      "cell_type": "code",
      "source": [
        "def Login(rollno, *, email, password, dob):\n",
        "  user = {\n",
        "      \"rollno\":rollno,\n",
        "      \"email\":email,\n",
        "      \"password\":password,\n",
        "      \"dob\":dob\n",
        "  }\n",
        "  print(user)\n",
        "\n",
        "Login(\"121\",email=\"laiba@gmail\",password=\"123\",dob=\"25/07/2004\")"
      ],
      "metadata": {
        "colab": {
          "base_uri": "https://localhost:8080/"
        },
        "id": "jOtvGaIreBiK",
        "outputId": "578fa1cd-2601-4653-96ca-78433e964fdb"
      },
      "execution_count": null,
      "outputs": [
        {
          "output_type": "stream",
          "name": "stdout",
          "text": [
            "{'rollno': '121', 'email': 'laiba@gmail', 'password': '123', 'dob': '25/07/2004'}\n"
          ]
        }
      ]
    },
    {
      "cell_type": "markdown",
      "source": [
        "# **Rest Parameters**"
      ],
      "metadata": {
        "id": "siFAjezDjo2X"
      }
    },
    {
      "cell_type": "markdown",
      "source": [
        "A rest parameter in Python is used to allow a function to accept an arbitrary number of arguments.\n",
        "\n",
        "*args collects extra positional arguments as a tuple.\n",
        "\n",
        "**kwargs collects extra keyword arguments as a dictionary.\n",
        "\n",
        "\n",
        "In Python, an **arbitrary** number of arguments means that a function can accept any number of inputs — not fixed — when it is called.\n",
        "\n",
        "This is useful when you don’t know how many arguments will be passed in advance."
      ],
      "metadata": {
        "id": "WOng-nZejsw-"
      }
    },
    {
      "cell_type": "code",
      "source": [],
      "metadata": {
        "id": "69NJrM0WoY7B"
      },
      "execution_count": null,
      "outputs": []
    },
    {
      "cell_type": "markdown",
      "source": [
        " *\n",
        " *single asterik ma hum argument passed baghair name ka hoti hain\n",
        "def show_numbers(*args):\n",
        "    print(args)  # Tuple of positional arguments\n",
        "\n",
        "show_numbers(1, 2, 3, 4)\n",
        "\n",
        "** double asterik ma argument name ka pass hoti hian\n",
        "def show_info(**kwargs):\n",
        "    print(kwargs)  # Dictionary of keyword arguments\n",
        "\n",
        "show_info(name=\"Laiba\", age=20, city=\"Karachi\")"
      ],
      "metadata": {
        "id": "8lvOUijVoUCc"
      }
    },
    {
      "cell_type": "code",
      "source": [
        "\n",
        "# double asterik ** (for unlimited arguments)\n",
        "\n",
        "def Binance(**kuch_bhi):\n",
        "  print(kuch_bhi)\n",
        "\n",
        "Binance(bitcoin=2432,eth=123)"
      ],
      "metadata": {
        "colab": {
          "base_uri": "https://localhost:8080/"
        },
        "id": "mzayJzpIjr3c",
        "outputId": "f96ce4fe-c73b-4114-fc78-c07306e45f23"
      },
      "execution_count": null,
      "outputs": [
        {
          "output_type": "stream",
          "name": "stdout",
          "text": [
            "{'bitcoin': 2432, 'eth': 123}\n"
          ]
        }
      ]
    },
    {
      "cell_type": "markdown",
      "source": [
        "# **Assignment**\n",
        "make function wallet with **kwarg\n",
        "call it with atleast  3 arguments"
      ],
      "metadata": {
        "id": "bgkfCh2fkwBq"
      }
    },
    {
      "cell_type": "code",
      "source": [
        "def Wallet(**items):\n",
        "  print(items)\n",
        "\n",
        "Wallet(amount=2112,card=\"2card\",bills=\"paied\")"
      ],
      "metadata": {
        "colab": {
          "base_uri": "https://localhost:8080/"
        },
        "id": "70DmZOsak6AQ",
        "outputId": "5d965d7d-7b78-49cd-b6c5-457498cd4a40"
      },
      "execution_count": null,
      "outputs": [
        {
          "output_type": "stream",
          "name": "stdout",
          "text": [
            "{'amount': 2112, 'card': '2card', 'bills': 'paied'}\n"
          ]
        }
      ]
    },
    {
      "cell_type": "code",
      "source": [],
      "metadata": {
        "id": "gdYZEfPvl-mC"
      },
      "execution_count": null,
      "outputs": []
    }
  ]
}