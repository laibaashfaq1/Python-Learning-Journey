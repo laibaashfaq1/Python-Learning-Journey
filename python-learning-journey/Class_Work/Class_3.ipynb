{
  "nbformat": 4,
  "nbformat_minor": 0,
  "metadata": {
    "colab": {
      "provenance": []
    },
    "kernelspec": {
      "name": "python3",
      "display_name": "Python 3"
    },
    "language_info": {
      "name": "python"
    }
  },
  "cells": [
    {
      "cell_type": "code",
      "execution_count": null,
      "metadata": {
        "id": "NXFl_FLbg0kx"
      },
      "outputs": [],
      "source": []
    },
    {
      "cell_type": "markdown",
      "source": [
        "# **Conditions**"
      ],
      "metadata": {
        "id": "M8ARAlypp2Fb"
      }
    },
    {
      "cell_type": "code",
      "source": [
        "# In Python, conditions are used to make decisions in a program.\n",
        "# They allow your code to execute different actions based on whether a certain condition is True or False."
      ],
      "metadata": {
        "id": "4VRkWokNspf1"
      },
      "execution_count": null,
      "outputs": []
    },
    {
      "cell_type": "code",
      "source": [
        "# user input\n",
        "weather =  input ('What is the weather?').lower()\n",
        "# .lower() ma  likhna sa agr user capital letter ma input da raha ha to  us ma koi issue nahi aya ga statement chl jaya gi"
      ],
      "metadata": {
        "colab": {
          "base_uri": "https://localhost:8080/"
        },
        "id": "stnioZj-p7Mh",
        "outputId": "e807daa7-03ad-4b00-b9ac-f74ebbe5db2b"
      },
      "execution_count": null,
      "outputs": [
        {
          "name": "stdout",
          "output_type": "stream",
          "text": [
            "What is the weather?Rainy\n"
          ]
        }
      ]
    },
    {
      "cell_type": "code",
      "source": [
        "# Conditions\n",
        "if weather == 'sunny' :\n",
        "  print(\"Stay hyderated\")\n",
        "\n",
        "elif weather == 'rainy':\n",
        "  print('Take umberlla')\n",
        "\n",
        "else:\n",
        "  print(\"Normal Weather\")"
      ],
      "metadata": {
        "colab": {
          "base_uri": "https://localhost:8080/"
        },
        "id": "wQshALGMqaAb",
        "outputId": "e1fc3839-90dd-41da-da53-ae22267aed51"
      },
      "execution_count": null,
      "outputs": [
        {
          "output_type": "stream",
          "name": "stdout",
          "text": [
            "Take umberlla\n"
          ]
        }
      ]
    },
    {
      "cell_type": "code",
      "source": [
        "\n"
      ],
      "metadata": {
        "id": "hBYw8iT0sEga"
      },
      "execution_count": null,
      "outputs": []
    },
    {
      "cell_type": "markdown",
      "source": [
        "**Exercise**\n",
        "\n",
        "**Calculator**\n",
        "\n",
        "1.Num1,num2,operator\n",
        "2.Addition,division"
      ],
      "metadata": {
        "id": "-ZZBUwj2vWJC"
      }
    },
    {
      "cell_type": "markdown",
      "source": [],
      "metadata": {
        "id": "WOvZFw98vxBA"
      }
    },
    {
      "cell_type": "markdown",
      "source": [],
      "metadata": {
        "id": "4w82C2owyS1e"
      }
    },
    {
      "cell_type": "code",
      "source": [
        "def calculator (num1,num2,operator)\n",
        "\n"
      ],
      "metadata": {
        "id": "f0EIy081wXaA"
      },
      "execution_count": null,
      "outputs": []
    }
  ]
}