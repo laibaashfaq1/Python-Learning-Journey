{
  "nbformat": 4,
  "nbformat_minor": 0,
  "metadata": {
    "colab": {
      "provenance": []
    },
    "kernelspec": {
      "name": "python3",
      "display_name": "Python 3"
    },
    "language_info": {
      "name": "python"
    }
  },
  "cells": [
    {
      "cell_type": "code",
      "source": [
        "print(\"Hello World\")"
      ],
      "metadata": {
        "colab": {
          "base_uri": "https://localhost:8080/"
        },
        "id": "6F2jX1l_kjIh",
        "outputId": "e30ff7bf-27a0-4a66-8d63-fe889044f97b"
      },
      "execution_count": null,
      "outputs": [
        {
          "output_type": "stream",
          "name": "stdout",
          "text": [
            "Hello World\n"
          ]
        }
      ]
    },
    {
      "cell_type": "code",
      "source": [],
      "metadata": {
        "id": "15bOAoEfvkUO"
      },
      "execution_count": null,
      "outputs": []
    },
    {
      "cell_type": "markdown",
      "source": [
        "**Variables**"
      ],
      "metadata": {
        "id": "tNzbipZnvyCK"
      }
    },
    {
      "cell_type": "code",
      "source": [
        "variable = \"Ramazan Kareem\""
      ],
      "metadata": {
        "id": "fS-5x1cKv1h0"
      },
      "execution_count": null,
      "outputs": []
    },
    {
      "cell_type": "code",
      "source": [
        "print(variable)"
      ],
      "metadata": {
        "colab": {
          "base_uri": "https://localhost:8080/"
        },
        "id": "lv7xvhtTv7oV",
        "outputId": "12d2df56-d7de-43dd-8391-63577cfc63bb"
      },
      "execution_count": null,
      "outputs": [
        {
          "output_type": "stream",
          "name": "stdout",
          "text": [
            "Ramazan Kareem\n"
          ]
        }
      ]
    },
    {
      "cell_type": "code",
      "source": [],
      "metadata": {
        "id": "8WuHEKx9wII3"
      },
      "execution_count": null,
      "outputs": []
    },
    {
      "cell_type": "markdown",
      "source": [
        "**Data Types**"
      ],
      "metadata": {
        "id": "rvA73w-bw-PZ"
      }
    },
    {
      "cell_type": "code",
      "source": [
        "number = 3"
      ],
      "metadata": {
        "id": "kvLhYZlDxCYl"
      },
      "execution_count": null,
      "outputs": []
    },
    {
      "cell_type": "code",
      "source": [
        "type(number)"
      ],
      "metadata": {
        "colab": {
          "base_uri": "https://localhost:8080/"
        },
        "id": "4yrNI0S7xvSG",
        "outputId": "8e17647a-66fe-49a3-ac55-d39067ba68a1"
      },
      "execution_count": null,
      "outputs": [
        {
          "output_type": "execute_result",
          "data": {
            "text/plain": [
              "int"
            ]
          },
          "metadata": {},
          "execution_count": 7
        }
      ]
    },
    {
      "cell_type": "code",
      "source": [
        "num = 1.2\n",
        "type(num)"
      ],
      "metadata": {
        "colab": {
          "base_uri": "https://localhost:8080/"
        },
        "id": "y6b1t8VzyCdA",
        "outputId": "7462ac13-c5a0-4b0b-cef2-a1e7963b4c93"
      },
      "execution_count": null,
      "outputs": [
        {
          "output_type": "execute_result",
          "data": {
            "text/plain": [
              "float"
            ]
          },
          "metadata": {},
          "execution_count": 8
        }
      ]
    },
    {
      "cell_type": "code",
      "source": [
        "varbool  = True\n",
        "type(varbool)"
      ],
      "metadata": {
        "colab": {
          "base_uri": "https://localhost:8080/"
        },
        "id": "qaZ0zC0ByJ7D",
        "outputId": "eea65939-800f-4f36-9da4-5eb2fc9c6d40"
      },
      "execution_count": null,
      "outputs": [
        {
          "output_type": "execute_result",
          "data": {
            "text/plain": [
              "bool"
            ]
          },
          "metadata": {},
          "execution_count": 9
        }
      ]
    },
    {
      "cell_type": "code",
      "source": [
        "a = \"first string\"\n",
        "b = 'second string'\n",
        "c = \"\"\"third string\"\"\"\n",
        "d = '''fourth string'''\n",
        "# d ma single triple string ma multiple line ma code kr skta hain"
      ],
      "metadata": {
        "id": "TZIUZPZ5yhzy"
      },
      "execution_count": null,
      "outputs": []
    },
    {
      "cell_type": "code",
      "source": [
        "var4 = [2,3,4]\n",
        "type(var4)"
      ],
      "metadata": {
        "colab": {
          "base_uri": "https://localhost:8080/"
        },
        "id": "KWeSFrJzy563",
        "outputId": "dbf61f12-f957-497b-e47b-ef4d84481b84"
      },
      "execution_count": null,
      "outputs": [
        {
          "output_type": "execute_result",
          "data": {
            "text/plain": [
              "list"
            ]
          },
          "metadata": {},
          "execution_count": 13
        }
      ]
    },
    {
      "cell_type": "code",
      "source": [
        "fruits=['apple','mango','banana',True,False]\n",
        "print(fruits)"
      ],
      "metadata": {
        "id": "9LP-8nqIzxXR"
      },
      "execution_count": null,
      "outputs": []
    },
    {
      "cell_type": "code",
      "source": [
        "print(fruits[2])"
      ],
      "metadata": {
        "id": "ZnkYC55tkofH"
      },
      "execution_count": null,
      "outputs": []
    },
    {
      "cell_type": "code",
      "source": [
        "# adding new fruits in the above list by replacing the other fruits\n",
        "fruit=['apple','mango','banana',True,False]\n",
        "fruit[2] = 'cherry'\n",
        "\n",
        "print(fruit)"
      ],
      "metadata": {
        "colab": {
          "base_uri": "https://localhost:8080/"
        },
        "id": "5UBYlhxRksF7",
        "outputId": "8aca9998-3d9d-49de-93ce-f3b0e919a3e0"
      },
      "execution_count": null,
      "outputs": [
        {
          "output_type": "stream",
          "name": "stdout",
          "text": [
            "['apple', 'mango', 'cherry', True, False]\n"
          ]
        }
      ]
    },
    {
      "cell_type": "code",
      "source": [],
      "metadata": {
        "id": "c_mPmetQlL3Y"
      },
      "execution_count": null,
      "outputs": []
    }
  ]
}